{
 "cells": [
  {
   "cell_type": "markdown",
   "metadata": {},
   "source": [
    "# Задание 5. Извлечение данных "
   ]
  },
  {
   "cell_type": "markdown",
   "metadata": {},
   "source": [
    "## Задание 5.1\n",
    "\n",
    "Напишите скрипт, который скачивает  сообщения с Телеграм-канала https://t.me/Sputnik_results . Сохраните сообщения в формате по вашему выбору (.csv, .jsonl, sqlite, parquet, и т.д.). Откройте с помощью Pandas или аналогичных библиотек, постройте график числа сообщений в зависимости от даты. "
   ]
  },
  {
   "cell_type": "markdown",
   "metadata": {},
   "source": [
    "## Задание 5.2\n",
    "1.Напишите функции для извлечения данных из сообщений:\n",
    "   - пол участника\n",
    "   - возраст участника\n",
    "\n",
    "   Постройте диаграммы для визуализации. \n",
    "\n",
    "2.Реализуйте какой-либо анализ этих данных на ваше усмотрение. Например их можно кластеризовать и интерпретировать кластеры, или попробовать выделить статистику по среднему количеству антител в зависимости от возраста, или посчитать количество заболевших после вакцинации. Обязательна визуализация. "
   ]
  },
  {
   "cell_type": "code",
   "execution_count": 1,
   "metadata": {},
   "outputs": [
    {
     "name": "stdout",
     "output_type": "stream",
     "text": [
      "Requirement already satisfied: telethon in c:\\users\\msi\\anaconda3\\lib\\site-packages (1.25.4)\n",
      "Requirement already satisfied: pyaes in c:\\users\\msi\\anaconda3\\lib\\site-packages (from telethon) (1.6.1)\n",
      "Requirement already satisfied: rsa in c:\\users\\msi\\anaconda3\\lib\\site-packages (from telethon) (4.9)\n",
      "Requirement already satisfied: pyasn1>=0.1.3 in c:\\users\\msi\\anaconda3\\lib\\site-packages (from rsa->telethon) (0.4.8)\n"
     ]
    }
   ],
   "source": [
    "!pip install telethon"
   ]
  },
  {
   "cell_type": "code",
   "execution_count": 2,
   "metadata": {},
   "outputs": [],
   "source": [
    "import pandas as pd\n",
    "import matplotlib.pyplot as plt\n",
    "import re\n",
    "import seaborn as sns\n",
    "import numpy"
   ]
  },
  {
   "cell_type": "code",
   "execution_count": 3,
   "metadata": {},
   "outputs": [
    {
     "data": {
      "text/html": [
       "<div>\n",
       "<style scoped>\n",
       "    .dataframe tbody tr th:only-of-type {\n",
       "        vertical-align: middle;\n",
       "    }\n",
       "\n",
       "    .dataframe tbody tr th {\n",
       "        vertical-align: top;\n",
       "    }\n",
       "\n",
       "    .dataframe thead th {\n",
       "        text-align: right;\n",
       "    }\n",
       "</style>\n",
       "<table border=\"1\" class=\"dataframe\">\n",
       "  <thead>\n",
       "    <tr style=\"text-align: right;\">\n",
       "      <th></th>\n",
       "      <th>_</th>\n",
       "      <th>id</th>\n",
       "      <th>peer_id</th>\n",
       "      <th>date</th>\n",
       "      <th>message</th>\n",
       "      <th>out</th>\n",
       "      <th>mentioned</th>\n",
       "      <th>media_unread</th>\n",
       "      <th>silent</th>\n",
       "      <th>post</th>\n",
       "      <th>...</th>\n",
       "      <th>views</th>\n",
       "      <th>forwards</th>\n",
       "      <th>replies</th>\n",
       "      <th>edit_date</th>\n",
       "      <th>post_author</th>\n",
       "      <th>grouped_id</th>\n",
       "      <th>reactions</th>\n",
       "      <th>restriction_reason</th>\n",
       "      <th>ttl_period</th>\n",
       "      <th>action</th>\n",
       "    </tr>\n",
       "  </thead>\n",
       "  <tbody>\n",
       "    <tr>\n",
       "      <th>0</th>\n",
       "      <td>Message</td>\n",
       "      <td>141831</td>\n",
       "      <td>{'_': 'PeerChannel', 'channel_id': 1367082089}</td>\n",
       "      <td>2022-12-04 09:11:07+00:00</td>\n",
       "      <td>Дополняю и обобщаю:\\n#ревак\\nМоя мама\\nЖ88, ди...</td>\n",
       "      <td>False</td>\n",
       "      <td>False</td>\n",
       "      <td>False</td>\n",
       "      <td>False</td>\n",
       "      <td>False</td>\n",
       "      <td>...</td>\n",
       "      <td>NaN</td>\n",
       "      <td>NaN</td>\n",
       "      <td>None</td>\n",
       "      <td>2022-12-04T09:11:34+00:00</td>\n",
       "      <td>NaN</td>\n",
       "      <td>NaN</td>\n",
       "      <td>NaN</td>\n",
       "      <td>[]</td>\n",
       "      <td>NaN</td>\n",
       "      <td>NaN</td>\n",
       "    </tr>\n",
       "    <tr>\n",
       "      <th>1</th>\n",
       "      <td>Message</td>\n",
       "      <td>141830</td>\n",
       "      <td>{'_': 'PeerChannel', 'channel_id': 1367082089}</td>\n",
       "      <td>2022-12-04 09:08:20+00:00</td>\n",
       "      <td>Еще дополняю и обобщаю\\n#ревак #назально\\nЖ51,...</td>\n",
       "      <td>False</td>\n",
       "      <td>False</td>\n",
       "      <td>False</td>\n",
       "      <td>False</td>\n",
       "      <td>False</td>\n",
       "      <td>...</td>\n",
       "      <td>NaN</td>\n",
       "      <td>NaN</td>\n",
       "      <td>None</td>\n",
       "      <td>None</td>\n",
       "      <td>NaN</td>\n",
       "      <td>NaN</td>\n",
       "      <td>NaN</td>\n",
       "      <td>[]</td>\n",
       "      <td>NaN</td>\n",
       "      <td>NaN</td>\n",
       "    </tr>\n",
       "    <tr>\n",
       "      <th>2</th>\n",
       "      <td>Message</td>\n",
       "      <td>141829</td>\n",
       "      <td>{'_': 'PeerChannel', 'channel_id': 1367082089}</td>\n",
       "      <td>2022-12-03 03:00:00+00:00</td>\n",
       "      <td>Народные отчеты о вакцинации\\n\\n⚠️ ТОЛЬКО ПУБЛ...</td>\n",
       "      <td>False</td>\n",
       "      <td>False</td>\n",
       "      <td>False</td>\n",
       "      <td>False</td>\n",
       "      <td>False</td>\n",
       "      <td>...</td>\n",
       "      <td>NaN</td>\n",
       "      <td>NaN</td>\n",
       "      <td>{'_': 'MessageReplies', 'replies': 0, 'replies...</td>\n",
       "      <td>None</td>\n",
       "      <td>NaN</td>\n",
       "      <td>NaN</td>\n",
       "      <td>NaN</td>\n",
       "      <td>[]</td>\n",
       "      <td>NaN</td>\n",
       "      <td>NaN</td>\n",
       "    </tr>\n",
       "    <tr>\n",
       "      <th>3</th>\n",
       "      <td>Message</td>\n",
       "      <td>141826</td>\n",
       "      <td>{'_': 'PeerChannel', 'channel_id': 1367082089}</td>\n",
       "      <td>2022-12-01 05:19:16+00:00</td>\n",
       "      <td>@zloy_katekhizator вспомните правила этого чат...</td>\n",
       "      <td>False</td>\n",
       "      <td>False</td>\n",
       "      <td>False</td>\n",
       "      <td>False</td>\n",
       "      <td>False</td>\n",
       "      <td>...</td>\n",
       "      <td>NaN</td>\n",
       "      <td>NaN</td>\n",
       "      <td>{'_': 'MessageReplies', 'replies': 0, 'replies...</td>\n",
       "      <td>None</td>\n",
       "      <td>NaN</td>\n",
       "      <td>NaN</td>\n",
       "      <td>NaN</td>\n",
       "      <td>[]</td>\n",
       "      <td>NaN</td>\n",
       "      <td>NaN</td>\n",
       "    </tr>\n",
       "    <tr>\n",
       "      <th>4</th>\n",
       "      <td>Message</td>\n",
       "      <td>141825</td>\n",
       "      <td>{'_': 'PeerChannel', 'channel_id': 1367082089}</td>\n",
       "      <td>2022-12-01 05:18:23+00:00</td>\n",
       "      <td>Shhh... quiet now.\\nMuted katekhisavr for 5 we...</td>\n",
       "      <td>False</td>\n",
       "      <td>False</td>\n",
       "      <td>False</td>\n",
       "      <td>False</td>\n",
       "      <td>False</td>\n",
       "      <td>...</td>\n",
       "      <td>NaN</td>\n",
       "      <td>NaN</td>\n",
       "      <td>{'_': 'MessageReplies', 'replies': 0, 'replies...</td>\n",
       "      <td>None</td>\n",
       "      <td>NaN</td>\n",
       "      <td>NaN</td>\n",
       "      <td>NaN</td>\n",
       "      <td>[]</td>\n",
       "      <td>NaN</td>\n",
       "      <td>NaN</td>\n",
       "    </tr>\n",
       "  </tbody>\n",
       "</table>\n",
       "<p>5 rows × 32 columns</p>\n",
       "</div>"
      ],
      "text/plain": [
       "         _      id                                         peer_id  \\\n",
       "0  Message  141831  {'_': 'PeerChannel', 'channel_id': 1367082089}   \n",
       "1  Message  141830  {'_': 'PeerChannel', 'channel_id': 1367082089}   \n",
       "2  Message  141829  {'_': 'PeerChannel', 'channel_id': 1367082089}   \n",
       "3  Message  141826  {'_': 'PeerChannel', 'channel_id': 1367082089}   \n",
       "4  Message  141825  {'_': 'PeerChannel', 'channel_id': 1367082089}   \n",
       "\n",
       "                       date  \\\n",
       "0 2022-12-04 09:11:07+00:00   \n",
       "1 2022-12-04 09:08:20+00:00   \n",
       "2 2022-12-03 03:00:00+00:00   \n",
       "3 2022-12-01 05:19:16+00:00   \n",
       "4 2022-12-01 05:18:23+00:00   \n",
       "\n",
       "                                             message    out  mentioned  \\\n",
       "0  Дополняю и обобщаю:\\n#ревак\\nМоя мама\\nЖ88, ди...  False      False   \n",
       "1  Еще дополняю и обобщаю\\n#ревак #назально\\nЖ51,...  False      False   \n",
       "2  Народные отчеты о вакцинации\\n\\n⚠️ ТОЛЬКО ПУБЛ...  False      False   \n",
       "3  @zloy_katekhizator вспомните правила этого чат...  False      False   \n",
       "4  Shhh... quiet now.\\nMuted katekhisavr for 5 we...  False      False   \n",
       "\n",
       "   media_unread  silent   post  ...  views  forwards  \\\n",
       "0         False   False  False  ...    NaN       NaN   \n",
       "1         False   False  False  ...    NaN       NaN   \n",
       "2         False   False  False  ...    NaN       NaN   \n",
       "3         False   False  False  ...    NaN       NaN   \n",
       "4         False   False  False  ...    NaN       NaN   \n",
       "\n",
       "                                             replies  \\\n",
       "0                                               None   \n",
       "1                                               None   \n",
       "2  {'_': 'MessageReplies', 'replies': 0, 'replies...   \n",
       "3  {'_': 'MessageReplies', 'replies': 0, 'replies...   \n",
       "4  {'_': 'MessageReplies', 'replies': 0, 'replies...   \n",
       "\n",
       "                   edit_date  post_author grouped_id reactions  \\\n",
       "0  2022-12-04T09:11:34+00:00          NaN        NaN       NaN   \n",
       "1                       None          NaN        NaN       NaN   \n",
       "2                       None          NaN        NaN       NaN   \n",
       "3                       None          NaN        NaN       NaN   \n",
       "4                       None          NaN        NaN       NaN   \n",
       "\n",
       "   restriction_reason ttl_period action  \n",
       "0                  []        NaN    NaN  \n",
       "1                  []        NaN    NaN  \n",
       "2                  []        NaN    NaN  \n",
       "3                  []        NaN    NaN  \n",
       "4                  []        NaN    NaN  \n",
       "\n",
       "[5 rows x 32 columns]"
      ]
     },
     "execution_count": 3,
     "metadata": {},
     "output_type": "execute_result"
    }
   ],
   "source": [
    "df = pd.read_json('channel_messages.json', encoding='utf8')\n",
    "df.head()"
   ]
  },
  {
   "cell_type": "code",
   "execution_count": 4,
   "metadata": {},
   "outputs": [
    {
     "name": "stdout",
     "output_type": "stream",
     "text": [
      "2021-01-06    834\n",
      "2021-01-11    639\n",
      "2021-01-12    588\n",
      "2021-01-10    544\n",
      "2021-01-07    451\n",
      "             ... \n",
      "2022-05-28      1\n",
      "2022-06-15      1\n",
      "2022-09-15      1\n",
      "2022-06-02      1\n",
      "2022-10-29      1\n",
      "Name: date, Length: 589, dtype: int64\n"
     ]
    }
   ],
   "source": [
    "df = df.sort_values(by='date')\n",
    "df['date'] = df['date'].dt.date\n",
    "date = df['date']\n",
    "#df.head()\n",
    "counts = date.value_counts()\n",
    "print(counts)"
   ]
  },
  {
   "cell_type": "code",
   "execution_count": 5,
   "metadata": {},
   "outputs": [
    {
     "data": {
      "text/plain": [
       "[<matplotlib.lines.Line2D at 0x1e30063e880>]"
      ]
     },
     "execution_count": 5,
     "metadata": {},
     "output_type": "execute_result"
    },
    {
     "data": {
      "image/png": "[encoded data removed]",
      "text/plain": [
       "<Figure size 800x800 with 1 Axes>"
      ]
     },
     "metadata": {
      "needs_background": "light"
     },
     "output_type": "display_data"
    }
   ],
   "source": [
    "df_1 = df.groupby('date')['message'].count()\n",
    "plt.figure(figsize=(10, 10), dpi=80)\n",
    "plt.plot(df_1)"
   ]
  },
  {
   "cell_type": "code",
   "execution_count": 6,
   "metadata": {},
   "outputs": [
    {
     "data": {
      "text/plain": [
       "<AxesSubplot:>"
      ]
     },
     "execution_count": 6,
     "metadata": {},
     "output_type": "execute_result"
    },
    {
     "data": {
      "image/png": "[encoded data removed]",
      "text/plain": [
       "<Figure size 432x288 with 1 Axes>"
      ]
     },
     "metadata": {
      "needs_background": "light"
     },
     "output_type": "display_data"
    }
   ],
   "source": [
    "def man_or_woman(text):\n",
    "    if pd.notna(text):\n",
    "        pattern = re.compile(r'[Жж]енщина|[Мм]ужчина|\\b[МмЖж]..?\\d\\d|\\b[МмЖж]\\d\\d|\\b[Жж]ен.+\\d\\d\\B|\\b[Мм]уж.+\\d\\d\\B')\n",
    "        find_list = pattern.findall(text)\n",
    "        list_to_write = []\n",
    "        for i in find_list:\n",
    "            list_to_write.append(i[0].upper())\n",
    "        return list_to_write\n",
    "    return []\n",
    "\n",
    "df['sex'] = df.message.apply(lambda x: man_or_woman(x))\n",
    "df['sex'].explode().hist()"
   ]
  },
  {
   "cell_type": "code",
   "execution_count": 7,
   "metadata": {},
   "outputs": [],
   "source": [
    "def age(text):\n",
    "    if pd.notna(text):\n",
    "        pattern = re.compile(r'\\b[МмЖж]..?\\d\\d|\\b[МмЖж]\\d\\d|\\b\\d\\d\\sгода?|\\b\\d\\d\\sлет')\n",
    "        listage = pattern.findall(text)\n",
    "        list_to_write = []\n",
    "        for i in listage:\n",
    "            if i[-2:].isalpha():\n",
    "                list_to_write.append(int(i[:2]))\n",
    "            else:\n",
    "                list_to_write.append(int(i[-2:]))\n",
    "        return list_to_write\n",
    "    return 0"
   ]
  },
  {
   "cell_type": "code",
   "execution_count": 8,
   "metadata": {},
   "outputs": [
    {
     "data": {
      "text/plain": [
       "<AxesSubplot:>"
      ]
     },
     "execution_count": 8,
     "metadata": {},
     "output_type": "execute_result"
    },
    {
     "data": {
      "image/png": "[encoded data removed]",
      "text/plain": [
       "<Figure size 432x288 with 1 Axes>"
      ]
     },
     "metadata": {
      "needs_background": "light"
     },
     "output_type": "display_data"
    }
   ],
   "source": [
    "df['age'] = df.message.apply(lambda x: age(x))\n",
    "df_temp = df['age'].explode()\n",
    "df_temp[df_temp >= 18].hist()"
   ]
  },
  {
   "cell_type": "code",
   "execution_count": 9,
   "metadata": {},
   "outputs": [],
   "source": [
    "def avg_bau(text):\n",
    "    if pd.notna(text):\n",
    "#        ages = re.compile(r'\\b[МмЖж]..?\\d\\d|\\b[МмЖж]\\d\\d|\\b\\d\\d\\sгода?|\\b\\d\\d\\sлет')\n",
    "        bau = re.compile(r'\\d+\\s+\\bBAU')\n",
    "#        listage = ages.findall(text)\n",
    "        llistage = bau.findall(text)\n",
    "        list_to_write = []\n",
    "        \n",
    "        for i in range(len(llistage)):\n",
    "            llistage[i] = float(llistage[i][:-3])\n",
    "        list_to_write.append(numpy.mean(llistage))\n",
    "        if type(list_to_write[-1]) is list:\n",
    "            list_to_write[-1] = list_to_write[-1].to_list()[0]\n",
    "#            if i[-2:].isalpha():\n",
    "#                list_to_write.append([int(i[:2]), llistage[-1][:-3]])\n",
    "#            else:\n",
    "#                list_to_write.append([int(i[-2:]), llistage[-1][:-3]])\n",
    "        return list_to_write\n",
    "    return 0"
   ]
  },
  {
   "cell_type": "code",
   "execution_count": 10,
   "metadata": {},
   "outputs": [
    {
     "name": "stderr",
     "output_type": "stream",
     "text": [
      "C:\\Users\\MSI\\anaconda3\\lib\\site-packages\\numpy\\core\\fromnumeric.py:3432: RuntimeWarning: Mean of empty slice.\n",
      "  return _methods._mean(a, axis=axis, dtype=dtype,\n"
     ]
    }
   ],
   "source": [
    "df['average_bau'] = df.message.apply(lambda x: avg_bau(x))"
   ]
  },
  {
   "cell_type": "code",
   "execution_count": 11,
   "metadata": {},
   "outputs": [],
   "source": [
    "copied = df.copy()\n",
    "copied['average_bau'] = df['average_bau'].explode()\n",
    "copied = copied.dropna(subset=['average_bau'])"
   ]
  },
  {
   "cell_type": "code",
   "execution_count": 12,
   "metadata": {},
   "outputs": [],
   "source": [
    "x = numpy.array(copied['age'].explode()[:copied.shape[0]]).reshape(1, -1)[0]\n",
    "y = numpy.array(copied['average_bau']).reshape(1, -1)[0]\n",
    "sred = numpy.mean(x)\n",
    "for i in range(len(x)):\n",
    "    if x[i] == numpy.nan:\n",
    "        x[i] = sred"
   ]
  },
  {
   "cell_type": "code",
   "execution_count": 13,
   "metadata": {},
   "outputs": [
    {
     "name": "stdout",
     "output_type": "stream",
     "text": [
      "[  0.  10.  20.  30.  40.  50.  60.  70.  80.  90. 100.]\n"
     ]
    },
    {
     "name": "stderr",
     "output_type": "stream",
     "text": [
      "C:\\Users\\MSI\\anaconda3\\lib\\site-packages\\numpy\\core\\fromnumeric.py:3432: RuntimeWarning: Mean of empty slice.\n",
      "  return _methods._mean(a, axis=axis, dtype=dtype,\n",
      "C:\\Users\\MSI\\anaconda3\\lib\\site-packages\\numpy\\core\\_methods.py:190: RuntimeWarning: invalid value encountered in double_scalars\n",
      "  ret = ret.dtype.type(ret / rcount)\n"
     ]
    }
   ],
   "source": [
    "bins = numpy.linspace(0, 100, 11)\n",
    "print(bins)\n",
    "dic = {}\n",
    "for i in range(len(bins[:-1])):\n",
    "    array_category = []\n",
    "    for j in range(copied.shape[0]):\n",
    "        if x[j] >= bins[i] and x[j] < bins[i + 1]:\n",
    "            array_category.append(y[j])\n",
    "    dic[bins[i+1]] = numpy.mean(array_category)\n"
   ]
  },
  {
   "cell_type": "code",
   "execution_count": 14,
   "metadata": {},
   "outputs": [
    {
     "name": "stdout",
     "output_type": "stream",
     "text": [
      "{10.0: 0.0, 20.0: 47.323076923076925, 30.0: 670.8928174603174, 40.0: 414.3681405895692, 50.0: 397.14588361491013, 60.0: 515.5261904761905, 70.0: 330.0804597701149, 80.0: 311.1222222222222, 90.0: 860.5677083333334, 100.0: nan}\n"
     ]
    }
   ],
   "source": [
    "print(dic)"
   ]
  },
  {
   "cell_type": "code",
   "execution_count": 15,
   "metadata": {},
   "outputs": [
    {
     "name": "stdout",
     "output_type": "stream",
     "text": [
      "dict_keys([10.0, 20.0, 30.0, 40.0, 50.0, 60.0, 70.0, 80.0, 90.0, 100.0]) dict_values([0.0, 47.323076923076925, 670.8928174603174, 414.3681405895692, 397.14588361491013, 515.5261904761905, 330.0804597701149, 311.1222222222222, 860.5677083333334, nan])\n"
     ]
    }
   ],
   "source": [
    "xs = dic.keys()\n",
    "ys = dic.values()\n",
    "print(xs, ys)"
   ]
  },
  {
   "cell_type": "code",
   "execution_count": 16,
   "metadata": {},
   "outputs": [
    {
     "data": {
      "text/plain": [
       "<BarContainer object of 10 artists>"
      ]
     },
     "execution_count": 16,
     "metadata": {},
     "output_type": "execute_result"
    },
    {
     "data": {
      "image/png": "[encoded data removed]",
      "text/plain": [
       "<Figure size 432x288 with 1 Axes>"
      ]
     },
     "metadata": {
      "needs_background": "light"
     },
     "output_type": "display_data"
    }
   ],
   "source": [
    "plt.bar(xs, ys, width=5)"
   ]
  },
  {
   "cell_type": "code",
   "execution_count": null,
   "metadata": {},
   "outputs": [],
   "source": []
  }
 ],
 "metadata": {
  "kernelspec": {
   "display_name": "Python 3",
   "language": "python",
   "name": "python3"
  },
  "language_info": {
   "codemirror_mode": {
    "name": "ipython",
    "version": 3
   },
   "file_extension": ".py",
   "mimetype": "text/x-python",
   "name": "python",
   "nbconvert_exporter": "python",
   "pygments_lexer": "ipython3",
   "version": "3.8.5"
  },
  "vscode": {
   "interpreter": {
    "hash": "916dbcbb3f70747c44a77c7bcd40155683ae19c65e1c03b4aa3499c5328201f1"
   }
  }
 },
 "nbformat": 4,
 "nbformat_minor": 4
}
